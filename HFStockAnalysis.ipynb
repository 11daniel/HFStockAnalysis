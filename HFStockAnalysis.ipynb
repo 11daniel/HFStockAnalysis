{
  "nbformat": 4,
  "nbformat_minor": 0,
  "metadata": {
    "colab": {
      "provenance": [],
      "authorship_tag": "ABX9TyNI88HSeE3XACcuEz8LPkqg",
      "include_colab_link": true
    },
    "kernelspec": {
      "name": "python3",
      "display_name": "Python 3"
    },
    "language_info": {
      "name": "python"
    }
  },
  "cells": [
    {
      "cell_type": "markdown",
      "metadata": {
        "id": "view-in-github",
        "colab_type": "text"
      },
      "source": [
        "<a href=\"https://colab.research.google.com/github/11daniel/HFStockAnalysis/blob/main/HFStockAnalysis.ipynb\" target=\"_parent\"><img src=\"https://colab.research.google.com/assets/colab-badge.svg\" alt=\"Open In Colab\"/></a>"
      ]
    },
    {
      "cell_type": "code",
      "source": [
        "from google.colab import userdata\n",
        "GOOGLE_API_KEY = userdata.get('secretName')"
      ],
      "metadata": {
        "id": "Am4qK5xDRHio"
      },
      "execution_count": 14,
      "outputs": []
    },
    {
      "cell_type": "code",
      "source": [
        "import requests\n",
        "import pandas as pd\n",
        "from bs4 import BeautifulSoup\n",
        "import time\n",
        "import os\n",
        "from dotenv import load_dotenv\n",
        "\n",
        "from transformers import pipeline\n",
        "import google.generativeai as genai\n",
        "import os\n",
        "from dotenv import load_dotenv\n",
        "import time\n",
        "\n",
        "# Get list of S&P 500 tickers from Wikipedia\n",
        "def get_sp500_tickers():\n",
        "    url = \"https://en.wikipedia.org/wiki/List_of_S%26P_500_companies\"\n",
        "    headers = {\"User-Agent\": \"Mozilla/5.0\"}  # mimic a browser\n",
        "    html = requests.get(url, headers=headers).text\n",
        "    table = pd.read_html(html)[0]\n",
        "    return table['Symbol'].tolist()\n",
        "\n",
        "tickers = get_sp500_tickers()\n",
        "print(f\"Loaded {len(tickers)} tickers.\")\n",
        "print(tickers[:10])  # show first 10\n"
      ],
      "metadata": {
        "colab": {
          "base_uri": "https://localhost:8080/"
        },
        "id": "869qiaVqXuxp",
        "outputId": "243243f2-51df-49e7-b0e3-32db8aca8ff1"
      },
      "execution_count": 18,
      "outputs": [
        {
          "output_type": "stream",
          "name": "stdout",
          "text": [
            "Loaded 503 tickers.\n",
            "['MMM', 'AOS', 'ABT', 'ABBV', 'ACN', 'ADBE', 'AMD', 'AES', 'AFL', 'A']\n"
          ]
        },
        {
          "output_type": "stream",
          "name": "stderr",
          "text": [
            "/tmp/ipython-input-3684491863.py:19: FutureWarning: Passing literal html to 'read_html' is deprecated and will be removed in a future version. To read from a literal string, wrap it in a 'StringIO' object.\n",
            "  table = pd.read_html(html)[0]\n"
          ]
        }
      ]
    },
    {
      "cell_type": "code",
      "execution_count": null,
      "metadata": {
        "id": "EvgAnF4WZNtx"
      },
      "outputs": [],
      "source": [
        "from transformers import pipeline\n",
        "\n",
        "# Load FinBERT model (finance-specific sentiment model)\n",
        "sentiment = pipeline(\"sentiment-analysis\", model=\"ProsusAI/finbert\")\n",
        "\n",
        "# Example financial headline\n",
        "headline = \"Netflix Poised to Double Ad Revenue This Year, Wedbush Says\"\n",
        "\n",
        "print(sentiment(headline))\n",
        "# [{'label': 'positive', 'score': 0.995}]\n"
      ]
    },
    {
      "cell_type": "code",
      "source": [
        "import yfinance as yf\n",
        "import pandas as pd\n",
        "import numpy as np\n",
        "import matplotlib.pyplot as plt\n",
        "\n",
        "# Download stock data\n",
        "data = yf.download(\"NFLX\", start=\"2025-01-01\", end=\"2025-10-20\", interval=\"1d\")\n",
        "\n",
        "# Calculate indicators\n",
        "data['SMA_20'] = data['Close'].rolling(window=20).mean()\n",
        "data['SMA_50'] = data['Close'].rolling(window=50).mean()\n",
        "\n",
        "# Generate signals safely (handles NaN)\n",
        "data['Signal'] = np.where(\n",
        "    data['SMA_20'] > data['SMA_50'], \"BUY\",\n",
        "    np.where(data['SMA_20'] < data['SMA_50'], \"SELL\", \"HOLD\")\n",
        ")\n",
        "\n",
        "# Show last rows\n",
        "print(data[['Close','SMA_20','SMA_50','Signal']].tail())\n",
        "\n",
        "# Plot with buy/sell markers\n",
        "plt.figure(figsize=(12,6))\n",
        "plt.plot(data['Close'], label='Close Price', alpha=0.8)\n",
        "plt.plot(data['SMA_20'], label='20-day SMA', alpha=0.7)\n",
        "plt.plot(data['SMA_50'], label='50-day SMA', alpha=0.7)\n",
        "\n",
        "# Mark buy/sell\n",
        "buy = data[data['Signal'] == 'BUY']\n",
        "sell = data[data['Signal'] == 'SELL']\n",
        "plt.scatter(buy.index, buy['Close'], marker='^', color='green', label='BUY', alpha=1)\n",
        "plt.scatter(sell.index, sell['Close'], marker='v', color='red', label='SELL', alpha=1)\n",
        "\n",
        "plt.title(\"NFLX Buy/Sell Strategy (SMA Crossover)\")\n",
        "plt.legend()\n",
        "plt.show()\n"
      ],
      "metadata": {
        "id": "_Wru5HByZU8E"
      },
      "execution_count": null,
      "outputs": []
    },
    {
      "cell_type": "code",
      "source": [
        "import numpy as np\n",
        "\n",
        "def final_decision(sentiment_label, price_signal):\n",
        "    if sentiment_label == \"positive\" and price_signal == \"BUY\":\n",
        "        return \"BUY\"\n",
        "    elif sentiment_label == \"negative\" and price_signal == \"SELL\":\n",
        "        return \"SELL\"\n",
        "    else:\n",
        "        return \"HOLD\"\n",
        "\n",
        "headline = \"Netflix Poised to Double Ad Revenue This Year, Wedbush Says\"\n",
        "sentiment_result = sentiment(headline)[0]['label']   # positive/negative/neutral\n",
        "latest_price_signal = data['Signal'].iloc[-1]        # from SMA crossover\n",
        "\n",
        "print(final_decision(sentiment_result, latest_price_signal))\n"
      ],
      "metadata": {
        "id": "kYjuaL7Yon9Q"
      },
      "execution_count": null,
      "outputs": []
    }
  ]
}